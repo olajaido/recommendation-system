{
 "cells": [
  {
   "cell_type": "markdown",
   "metadata": {},
   "source": [
    "# MovieLens Dataset Exploration\n",
    "\n",
    "This notebook explores the MovieLens dataset to understand its structure and characteristics."
   ]
  },
  {
   "cell_type": "code",
   "execution_count": null,
   "metadata": {},
   "source": [
    "import os\n",
    "import sys\n",
    "import pandas as pd\n",
    "import numpy as np\n",
    "import matplotlib.pyplot as plt\n",
    "import seaborn as sns\n",
    "import yaml\n",
    "from pathlib import Path\n",
    "\n",
    "# Add the project root to the Python path\n",
    "notebook_path = Path(os.getcwd())\n",
    "project_root = notebook_path.parent\n",
    "sys.path.append(str(project_root))\n",
    "\n",
    "# Set plotting style\n",
    "sns.set_style(\"whitegrid\")\n",
    "plt.rcParams[\"figure.figsize\"] = (12, 8)\n",
    "%matplotlib inline"
   ]
  },
  {
   "cell_type": "code",
   "execution_count": null,
   "metadata": {},
   "source": [
    "# Load configuration\n",
    "def load_config(config_path=\"configs/data_config.yaml\"):\n",
    "    config_path = project_root / config_path\n",
    "    with open(config_path, \"r\") as file:\n",
    "        config = yaml.safe_load(file)\n",
    "    return config\n",
    "\n",
    "config = load_config()\n",
    "movielens_config = config[\"movielens\"]\n",
    "dataset_size = movielens_config[\"dataset_size\"]\n",
    "raw_dir = project_root / movielens_config[\"paths\"][\"raw\"]"
   ]
  },
  {
   "cell_type": "markdown",
   "metadata": {},
   "source": [
    "## Loading the MovieLens Dataset\n",
    "\n",
    "Let's load the ratings, movies, and users data. The file format depends on the dataset size."
   ]
  },
  {
   "cell_type": "code",
   "execution_count": null,
   "metadata": {},
   "source": [
    "def load_movielens_data():\n",
    "    \"\"\"Load MovieLens dataset files based on dataset size.\"\"\"\n",
    "    dataset_path = raw_dir / f\"ml-{dataset_size}\"\n",
    "    \n",
    "    # Different file formats and structures for different dataset sizes\n",
    "    if dataset_size == \"100k\":\n",
    "        # MovieLens 100K has a different structure\n",
    "        ratings_file = dataset_path / \"u.data\"\n",
    "        movies_file = dataset_path / \"u.item\"\n",
    "        users_file = dataset_path / \"u.user\"\n",
    "        \n",
    "        # Load ratings\n",
    "        ratings = pd.read_csv(ratings_file, sep=\"\\t\", \n",
    "                             names=[\"user_id\", \"movie_id\", \"rating\", \"timestamp\"])\n",
    "        \n",
    "        # Load movies (encoding Latin-1 for special characters)\n",
    "        movies_cols = [\"movie_id\", \"title\", \"release_date\", \"video_release_date\", \n",
    "                      \"IMDb_URL\"] + [f\"genre_{i}\" for i in range(19)]\n",
    "        movies = pd.read_csv(movies_file, sep=\"|\", encoding=\"latin-1\", names=movies_cols)\n",
    "        \n",
    "        # Load users\n",
    "        users = pd.read_csv(users_file, sep=\"|\", \n",
    "                           names=[\"user_id\", \"age\", \"gender\", \"occupation\", \"zip_code\"])\n",
    "        \n",
    "    elif dataset_size == \"1m\":\n",
    "        # MovieLens 1M uses double-colon separator\n",
    "        ratings_file = dataset_path / \"ratings.dat\"\n",
    "        movies_file = dataset_path / \"movies.dat\"\n",
    "        users_file = dataset_path / \"users.dat\"\n",
    "        \n",
    "        # Load ratings\n",
    "        ratings = pd.read_csv(ratings_file, sep=\"::\", engine=\"python\",\n",
    "                             names=[\"user_id\", \"movie_id\", \"rating\", \"timestamp\"])\n",
    "        \n",
    "        # Load movies\n",
    "        movies = pd.read_csv(movies_file, sep=\"::\", engine=\"python\", encoding=\"latin-1\",\n",
    "                            names=[\"movie_id\", \"title\", \"genres\"])\n",
    "        \n",
    "        # Load users\n",
    "        users = pd.read_csv(users_file, sep=\"::\", engine=\"python\",\n",
    "                           names=[\"user_id\", \"gender\", \"age\", \"occupation\", \"zip_code\"])\n",
    "    \n",
    "    else:  # 20m and 25m have similar CSV structure\n",
    "        ratings_file = dataset_path / \"ratings.csv\"\n",
    "        movies_file = dataset_path / \"movies.csv\"\n",
    "        \n",
    "        # Load ratings\n",
    "        ratings = pd.read_csv(ratings_file)\n",
    "        \n",
    "        # Load movies\n",
    "        movies = pd.read_csv(movies_file)\n",
    "        \n",
    "        # No users file in larger datasets\n",
    "        users = None\n",
    "    \n",
    "    return ratings, movies, users\n",
    "\n",
    "ratings_df, movies_df, users_df = load_movielens_data()"
   ]
  },
  {
   "cell_type": "markdown",
   "metadata": {},
   "source": [
    "## Data Overview\n",
    "\n",
    "Let's explore the basic statistics and structures of our datasets."
   ]
  },
  {
   "cell_type": "code",
   "execution_count": null,
   "metadata": {},
   "source": [
    "print(\"=== Ratings Dataset ===\")\n",
    "print(f\"Shape: {ratings_df.shape}\")\n",
    "print(\"\\nFirst 5 rows:\")\n",
    "display(ratings_df.head())\n",
    "print(\"\\nSummary statistics:\")\n",
    "display(ratings_df.describe())"
   ]
  },
  {
   "cell_type": "code",
   "execution_count": null,
   "metadata": {},
   "source": [
    "print(\"=== Movies Dataset ===\")\n",
    "print(f\"Shape: {movies_df.shape}\")\n",
    "print(\"\\nFirst 5 rows:\")\n",
    "display(movies_df.head())\n",
    "print(\"\\nData types:\")\n",
    "display(movies_df.dtypes)"
   ]
  },
  {
   "cell_type": "code",
   "execution_count": null,
   "metadata": {},
   "source": [
    "if users_df is not None:\n",
    "    print(\"=== Users Dataset ===\")\n",
    "    print(f\"Shape: {users_df.shape}\")\n",
    "    print(\"\\nFirst 5 rows:\")\n",
    "    display(users_df.head())\n",
    "    print(\"\\nData types:\")\n",
    "    display(users_df.dtypes)"
   ]
  },
  {
   "cell_type": "markdown",
   "metadata": {},
   "source": [
    "## Data Analysis\n",
    "\n",
    "Let's analyze key aspects of the dataset."
   ]
  },
  {
   "cell_type": "code",
   "execution_count": null,
   "metadata": {},
   "source": [
    "# Rating distribution\n",
    "plt.figure(figsize=(10, 6))\n",
    "sns.countplot(x='rating', data=ratings_df)\n",
    "plt.title('Distribution of Ratings')\n",
    "plt.xlabel('Rating')\n",
    "plt.ylabel('Count')\n",
    "plt.show()"
   ]
  },
  {
   "cell_type": "code",
   "execution_count": null,
   "metadata": {},
   "source": [
    "# User activity distribution\n",
    "user_activity = ratings_df['user_id'].value_counts().reset_index()\n",
    "user_activity.columns = ['user_id', 'rating_count']\n",
    "\n",
    "plt.figure(figsize=(10, 6))\n",
    "sns.histplot(user_activity['rating_count'], bins=50)\n",
    "plt.title('Distribution of User Activity (Number of Ratings per User)')\n",
    "plt.xlabel('Number of Ratings')\n",
    "plt.ylabel('Count of Users')\n",
    "plt.show()"
   ]
  },
  {
   "cell_type": "code",
   "execution_count": null,
   "metadata": {},
   "source": [
    "# Movie popularity distribution\n",
    "movie_popularity = ratings_df['movie_id'].value_counts().reset_index()\n",
    "movie_popularity.columns = ['movie_id', 'rating_count']\n",
    "\n",
    "plt.figure(figsize=(10, 6))\n",
    "sns.histplot(movie_popularity['rating_count'], bins=50)\n",
    "plt.title('Distribution of Movie Popularity (Number of Ratings per Movie)')\n",
    "plt.xlabel('Number of Ratings')\n",
    "plt.ylabel('Count of Movies')\n",
    "plt.show()"
   ]
  },
  {
   "cell_type": "code",
   "execution_count": null,
   "metadata": {},
   "source": [
    "# Top-rated movies (with minimum 100 ratings)\n",
    "movie_stats = ratings_df.groupby('movie_id').agg({\n",
    "    'rating': ['mean', 'count']\n",
    "}).reset_index()\n",
    "movie_stats.columns = ['movie_id', 'avg_rating', 'rating_count']\n",
    "\n",
    "popular_movies = movie_stats[movie_stats['rating_count'] >= 100].sort_values('avg_rating', ascending=False).head(20)\n",
    "popular_movies = popular_movies.merge(movies_df[['movie_id', 'title']], on='movie_id')\n",
    "\n",
    "plt.figure(figsize=(12, 8))\n",
    "sns.barplot(x='avg_rating', y='title', data=popular_movies)\n",
    "plt.title('Top 20 Highest Rated Movies (with at least 100 ratings)')\n",
    "plt.xlabel('Average Rating')\n",
    "plt.ylabel('Movie Title')\n",
    "plt.tight_layout()\n",
    "plt.show()"
   ]
  },
  {
   "cell_type": "markdown",
   "metadata": {},
   "source": [
    "## Data Insights Summary\n",
    "\n",
    "Key observations from our data exploration:\n",
    "\n",
    "1. Dataset size and completeness\n",
    "2. Rating distribution patterns\n",
    "3. User activity patterns\n",
    "4. Movie popularity distribution\n",
    "5. Popular and highly-rated movies\n",
    "\n",
    "Next steps:\n",
    "- Data preprocessing and cleaning\n",
    "- Feature engineering\n",
    "- Initial model implementation"
   ]
  }
 ],
 "metadata": {
  "kernelspec": {
   "display_name": "Python 3",
   "language": "python",
   "name": "python3"
  },
  "language_info": {
   "codemirror_mode": {
    "name": "ipython",
    "version": 3
   },
   "file_extension": ".py",
   "mimetype": "text/x-python",
   "name": "python",
   "nbconvert_exporter": "python",
   "pygments_lexer": "ipython3",
   "version": "3.8.10"
  }
 },
 "nbformat": 4,
 "nbformat_minor": 4
}
